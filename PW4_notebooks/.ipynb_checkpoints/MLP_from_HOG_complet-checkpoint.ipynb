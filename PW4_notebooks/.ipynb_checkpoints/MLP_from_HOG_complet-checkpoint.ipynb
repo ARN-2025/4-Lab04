{
 "cells": [
  {
   "cell_type": "markdown",
   "id": "686d5cc8",
   "metadata": {},
   "source": [
    "# Step 2: MLP with HOG Features\n",
    "This notebook performs digit classification on MNIST using HOG features and MLP models.\n"
   ]
  },
  {
   "cell_type": "markdown",
   "id": "6a27a544",
   "metadata": {},
   "source": [
    "## 1. Load and preprocess MNIST data"
   ]
  },
  {
   "cell_type": "code",
   "execution_count": 1,
   "id": "cabbfe98",
   "metadata": {},
   "outputs": [
    {
     "ename": "ModuleNotFoundError",
     "evalue": "No module named 'skimage'",
     "output_type": "error",
     "traceback": [
      "\u001b[1;31m---------------------------------------------------------------------------\u001b[0m",
      "\u001b[1;31mModuleNotFoundError\u001b[0m                       Traceback (most recent call last)",
      "Cell \u001b[1;32mIn[1], line 3\u001b[0m\n\u001b[0;32m      1\u001b[0m \u001b[38;5;28;01mfrom\u001b[39;00m\u001b[38;5;250m \u001b[39m\u001b[38;5;21;01mtensorflow\u001b[39;00m\u001b[38;5;21;01m.\u001b[39;00m\u001b[38;5;21;01mkeras\u001b[39;00m\u001b[38;5;21;01m.\u001b[39;00m\u001b[38;5;21;01mdatasets\u001b[39;00m\u001b[38;5;250m \u001b[39m\u001b[38;5;28;01mimport\u001b[39;00m mnist\n\u001b[0;32m      2\u001b[0m \u001b[38;5;28;01mimport\u001b[39;00m\u001b[38;5;250m \u001b[39m\u001b[38;5;21;01mnumpy\u001b[39;00m\u001b[38;5;250m \u001b[39m\u001b[38;5;28;01mas\u001b[39;00m\u001b[38;5;250m \u001b[39m\u001b[38;5;21;01mnp\u001b[39;00m\n\u001b[1;32m----> 3\u001b[0m \u001b[38;5;28;01mfrom\u001b[39;00m\u001b[38;5;250m \u001b[39m\u001b[38;5;21;01mskimage\u001b[39;00m\u001b[38;5;21;01m.\u001b[39;00m\u001b[38;5;21;01mfeature\u001b[39;00m\u001b[38;5;250m \u001b[39m\u001b[38;5;28;01mimport\u001b[39;00m hog\n\u001b[0;32m      4\u001b[0m \u001b[38;5;28;01mfrom\u001b[39;00m\u001b[38;5;250m \u001b[39m\u001b[38;5;21;01msklearn\u001b[39;00m\u001b[38;5;21;01m.\u001b[39;00m\u001b[38;5;21;01mpreprocessing\u001b[39;00m\u001b[38;5;250m \u001b[39m\u001b[38;5;28;01mimport\u001b[39;00m StandardScaler\n\u001b[0;32m      5\u001b[0m \u001b[38;5;28;01mfrom\u001b[39;00m\u001b[38;5;250m \u001b[39m\u001b[38;5;21;01mtensorflow\u001b[39;00m\u001b[38;5;21;01m.\u001b[39;00m\u001b[38;5;21;01mkeras\u001b[39;00m\u001b[38;5;21;01m.\u001b[39;00m\u001b[38;5;21;01mutils\u001b[39;00m\u001b[38;5;250m \u001b[39m\u001b[38;5;28;01mimport\u001b[39;00m to_categorical\n",
      "\u001b[1;31mModuleNotFoundError\u001b[0m: No module named 'skimage'"
     ]
    }
   ],
   "source": [
    "\n",
    "from tensorflow.keras.datasets import mnist\n",
    "import numpy as np\n",
    "from skimage.feature import hog\n",
    "from sklearn.preprocessing import StandardScaler\n",
    "from tensorflow.keras.utils import to_categorical\n",
    "\n",
    "# Load MNIST\n",
    "(x_train, y_train), (x_test, y_test) = mnist.load_data()\n",
    "\n",
    "# Normalize images\n",
    "x_train = x_train.astype('float32') / 255.\n",
    "x_test = x_test.astype('float32') / 255.\n"
   ]
  },
  {
   "cell_type": "markdown",
   "id": "b4c0cc68",
   "metadata": {},
   "source": [
    "## 2. Extract HOG features"
   ]
  },
  {
   "cell_type": "code",
   "execution_count": null,
   "id": "8e6a8622",
   "metadata": {},
   "outputs": [],
   "source": [
    "\n",
    "def extract_hog_features(images, pixels_per_cell, orientations=9):\n",
    "    hog_features = [hog(img, orientations=orientations,\n",
    "                        pixels_per_cell=(pixels_per_cell, pixels_per_cell),\n",
    "                        cells_per_block=(2, 2), block_norm='L2-Hys') for img in images]\n",
    "    return np.array(hog_features)\n",
    "\n",
    "# Extract for both pix_per_cell values\n",
    "hog_features_4_train = extract_hog_features(x_train, 4)\n",
    "hog_features_4_test = extract_hog_features(x_test, 4)\n",
    "\n",
    "hog_features_7_train = extract_hog_features(x_train, 7)\n",
    "hog_features_7_test = extract_hog_features(x_test, 7)\n",
    "\n",
    "# Standardize\n",
    "from sklearn.preprocessing import StandardScaler\n",
    "scaler_4 = StandardScaler().fit(hog_features_4_train)\n",
    "hog_features_4_train = scaler_4.transform(hog_features_4_train)\n",
    "hog_features_4_test = scaler_4.transform(hog_features_4_test)\n",
    "\n",
    "scaler_7 = StandardScaler().fit(hog_features_7_train)\n",
    "hog_features_7_train = scaler_7.transform(hog_features_7_train)\n",
    "hog_features_7_test = scaler_7.transform(hog_features_7_test)\n",
    "\n",
    "# One-hot encode labels\n",
    "y_train_cat = to_categorical(y_train, 10)\n",
    "y_test_cat = to_categorical(y_test, 10)\n"
   ]
  },
  {
   "cell_type": "markdown",
   "id": "af128912",
   "metadata": {},
   "source": [
    "## 3. Build and train MLP models"
   ]
  },
  {
   "cell_type": "code",
   "execution_count": null,
   "id": "b5b0ab2a",
   "metadata": {},
   "outputs": [],
   "source": [
    "\n",
    "from tensorflow.keras.models import Sequential\n",
    "from tensorflow.keras.layers import Dense\n",
    "import matplotlib.pyplot as plt\n",
    "\n",
    "def build_and_train_mlp(x_train, y_train, x_val, y_val, hidden_units, epochs=10):\n",
    "    model = Sequential()\n",
    "    model.add(Dense(hidden_units, activation='relu', input_shape=(x_train.shape[1],)))\n",
    "    model.add(Dense(10, activation='softmax'))\n",
    "    model.compile(optimizer='adam', loss='categorical_crossentropy', metrics=['accuracy'])\n",
    "    history = model.fit(x_train, y_train, validation_data=(x_val, y_val),\n",
    "                        epochs=epochs, batch_size=128, verbose=0)\n",
    "    return model, history\n"
   ]
  },
  {
   "cell_type": "code",
   "execution_count": null,
   "id": "bae98ae1",
   "metadata": {},
   "outputs": [],
   "source": [
    "\n",
    "# Train models for both HOG variants\n",
    "histories = {}\n",
    "\n",
    "for pix_per_cell, xtr, xte in [(4, hog_features_4_train, hog_features_4_test), (7, hog_features_7_train, hog_features_7_test)]:\n",
    "    for units in [128, 256, 512]:\n",
    "        print(f\"Training MLP with HOG {pix_per_cell} and {units} units...\")\n",
    "        model, history = build_and_train_mlp(xtr, y_train_cat, xte, y_test_cat, units)\n",
    "        histories[(pix_per_cell, units)] = (model, history)\n"
   ]
  },
  {
   "cell_type": "markdown",
   "id": "14472200",
   "metadata": {},
   "source": [
    "## 4. Plot validation accuracy"
   ]
  },
  {
   "cell_type": "code",
   "execution_count": null,
   "id": "94b61956",
   "metadata": {},
   "outputs": [],
   "source": [
    "\n",
    "for (pix_per_cell, units), (_, history) in histories.items():\n",
    "    plt.plot(history.history['val_accuracy'], label=f'HOG {pix_per_cell}, {units} units')\n",
    "\n",
    "plt.title('Validation Accuracy by HOG Parameters')\n",
    "plt.xlabel('Epoch')\n",
    "plt.ylabel('Validation Accuracy')\n",
    "plt.legend()\n",
    "plt.grid()\n",
    "plt.show()\n"
   ]
  },
  {
   "cell_type": "markdown",
   "id": "3b7ebfed",
   "metadata": {},
   "source": [
    "## 5. Evaluate best model"
   ]
  },
  {
   "cell_type": "code",
   "execution_count": null,
   "id": "3de96cc6",
   "metadata": {},
   "outputs": [],
   "source": [
    "\n",
    "from sklearn.metrics import confusion_matrix, ConfusionMatrixDisplay\n",
    "import numpy as np\n",
    "\n",
    "# Choose best performing configuration (e.g., HOG 7 with 512 units)\n",
    "best_model = histories[(7, 512)][0]\n",
    "y_pred = best_model.predict(hog_features_7_test)\n",
    "y_pred_classes = np.argmax(y_pred, axis=1)\n",
    "\n",
    "# Confusion matrix\n",
    "cm = confusion_matrix(y_test, y_pred_classes)\n",
    "disp = ConfusionMatrixDisplay(cm, display_labels=range(10))\n",
    "disp.plot(cmap='Blues')\n",
    "plt.title(\"Confusion Matrix - HOG 7 - 512 units\")\n",
    "plt.show()\n"
   ]
  }
 ],
 "metadata": {
  "kernelspec": {
   "display_name": "ARN",
   "language": "python",
   "name": "arn"
  },
  "language_info": {
   "codemirror_mode": {
    "name": "ipython",
    "version": 3
   },
   "file_extension": ".py",
   "mimetype": "text/x-python",
   "name": "python",
   "nbconvert_exporter": "python",
   "pygments_lexer": "ipython3",
   "version": "3.9.21"
  }
 },
 "nbformat": 4,
 "nbformat_minor": 5
}
